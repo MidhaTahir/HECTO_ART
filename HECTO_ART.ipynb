{
 "cells": [
  {
   "cell_type": "code",
   "execution_count": 1,
   "metadata": {},
   "outputs": [],
   "source": [
    "from tkinter import *\n",
    "import tkinter as tk\n",
    "import PIL.Image\n",
    "from PIL import ImageTk\n",
    "from PIL import Image\n",
    "import cv2\n",
    "import tkinter.filedialog\n",
    "import matplotlib.pyplot as plt\n",
    "import numpy as np\n",
    "from skimage import io\n",
    "from skimage import transform as tf"
   ]
  },
  {
   "cell_type": "code",
   "execution_count": 2,
   "metadata": {},
   "outputs": [],
   "source": [
    "global win,output"
   ]
  },
  {
   "cell_type": "code",
   "execution_count": 3,
   "metadata": {},
   "outputs": [],
   "source": [
    "def upload():\n",
    "    global path\n",
    "    path = tk.filedialog.askopenfilename()"
   ]
  },
  {
   "cell_type": "code",
   "execution_count": 4,
   "metadata": {},
   "outputs": [],
   "source": [
    "def rotate2D():\n",
    "    global output\n",
    "    img = cv2.imread(path) #path of image\n",
    "    #img = cv2.cvtColor(img,cv2.COLOR_BGR2RGB)\n",
    "    \n",
    "    #affine transformation->geometric transformation->translation\n",
    "    \n",
    "    rows,columns,channels = img.shape\n",
    "    R = cv2.getRotationMatrix2D((columns/2,rows/2),10,0.5) #centre,angle,scaling\n",
    "    print(R)\n",
    "    output = cv2.warpAffine(img,R,(columns,rows))\n",
    "    \n",
    "    cv2.imshow('Rotated Image',output)\n",
    "    cv2.waitKey(0)\n",
    "    cv2.destroyAllWindows()\n",
    "    \n",
    "    outputcolor = cv2.cvtColor(output,cv2.COLOR_BGR2RGB) #to show on matplotlib colored is change to RGB\n",
    "    plt.imshow(outputcolor)\n",
    "    plt.title(\"Rotated Image\")\n",
    "    plt.show()"
   ]
  },
  {
   "cell_type": "code",
   "execution_count": 5,
   "metadata": {},
   "outputs": [],
   "source": [
    "def scaling():\n",
    "    global output\n",
    "    img = cv2.imread(path)\n",
    "    output = cv2.resize(img,None,fx=1,fy=1.5,interpolation=cv2.INTER_LINEAR) #src,desired size, scaling x, scaling y, interpolation\n",
    "    \n",
    "    cv2.imshow('Scaled Image',output)\n",
    "    cv2.waitKey(0)\n",
    "    cv2.destroyAllWindows()\n",
    "    \n",
    "    outputcolor = cv2.cvtColor(output,cv2.COLOR_BGR2RGB) #to show on matplotlib colored is change to RGB\n",
    "    plt.imshow(outputcolor)\n",
    "    plt.title(\"Scaled Image\")\n",
    "    plt.show()"
   ]
  },
  {
   "cell_type": "code",
   "execution_count": 6,
   "metadata": {},
   "outputs": [],
   "source": [
    "def shear():\n",
    "    global output\n",
    "    img = cv2.imread(path)\n",
    "    afine_tf = tf.AffineTransform(shear=0.6)\n",
    "\n",
    "    # Apply transform to image data\n",
    "    output = tf.warp(img, inverse_map=afine_tf)\n",
    "    \n",
    "    cv2.imshow('Sheared Image',output)\n",
    "    cv2.waitKey(0)\n",
    "    cv2.destroyAllWindows()\n",
    "    \n",
    "\n",
    "    plt.imshow(output)\n",
    "    plt.title(\"Sheared Image\")\n",
    "    plt.show()"
   ]
  },
  {
   "cell_type": "code",
   "execution_count": 7,
   "metadata": {},
   "outputs": [],
   "source": [
    "def reflect(): \n",
    "    global output\n",
    "    plt.figure()\n",
    "    f, axarr = plt.subplots(2,1) \n",
    "    iar = np.asarray(Image.open(path))\n",
    "    image_obj = Image.open(path)\n",
    "    rotated_image = image_obj.transpose(Image.FLIP_TOP_BOTTOM)\n",
    "    output = rotated_image.save('2.jpg')\n",
    "    iar1=np.asarray(Image.open('2.jpg'))\n",
    "    \n",
    "    axarr[0].imshow(iar)\n",
    "    axarr[1].imshow(iar1)\n",
    "    \n",
    "    output = cv2.cvtColor(iar1,cv2.COLOR_BGR2RGB)\n",
    "    cv2.imshow('Reflected Image',output)\n",
    "    cv2.waitKey(0)\n",
    "    cv2.destroyAllWindows()\n",
    "\n",
    "    plt.title(\"Reflected Image\")\n",
    "    plt.show()"
   ]
  },
  {
   "cell_type": "code",
   "execution_count": 8,
   "metadata": {},
   "outputs": [],
   "source": [
    "def translation():\n",
    "    global output\n",
    "    img = cv2.imread(path) #path of image\n",
    "    #img = cv2.cvtColor(img,cv2.COLOR_BGR2RGB)\n",
    "    \n",
    "    #affine transformation ->geometric transformation->translation\n",
    "    \n",
    "    rows,columns,channels = img.shape\n",
    "    T = np.float32([[1,0,50],[0,1,150]]) #transformation matrix\n",
    "    output = cv2.warpAffine(img,T,(columns,rows))\n",
    "    \n",
    "    cv2.imshow('Translated Image',output)\n",
    "    cv2.waitKey(0)\n",
    "    cv2.destroyAllWindows()\n",
    "    \n",
    "    outputcolor = cv2.cvtColor(output,cv2.COLOR_BGR2RGB) #to show on matplotlib colored is change to RGB\n",
    "    plt.imshow(outputcolor)\n",
    "    plt.title(\"Translated Image\")\n",
    "    plt.show()"
   ]
  },
  {
   "cell_type": "code",
   "execution_count": 9,
   "metadata": {},
   "outputs": [],
   "source": [
    "def download():\n",
    "    cv2.waitKey(0)\n",
    "    cv2.imwrite('output_img.png',output)\n",
    "    cv2.destroyAllWindows()"
   ]
  },
  {
   "cell_type": "code",
   "execution_count": null,
   "metadata": {},
   "outputs": [],
   "source": [
    "win = Tk()\n",
    "win.title(\"Hecto\")\n",
    "#window\n",
    "width_value = win.winfo_screenwidth()\n",
    "height_value = win.winfo_screenheight()\n",
    "win.geometry('%dx%d+0+0'%(width_value-13,height_value-13))\n",
    "\n",
    "image = PIL.Image.open('1.jpg')\n",
    "back_image = ImageTk.PhotoImage(image)\n",
    "label_ = Label(image = back_image)\n",
    "label_.pack()\n",
    "\n",
    "\n",
    "#Upload\n",
    "b1_image = PhotoImage(file=\"b1.png\")\n",
    "up = Button(win,image=b1_image,cursor=\"hand2\",relief=RAISED,command=upload)\n",
    "up.place(x=335,y=250)\n",
    "\n",
    "#Download\n",
    "b2_image = PhotoImage(file=\"b2.png\")\n",
    "d = Button(win,image=b2_image,cursor=\"hand2\",command=download)\n",
    "d.place(x=635,y=250)\n",
    "\n",
    "#Rotate2D\n",
    "b3_image = PhotoImage(file=\"b3.png\")\n",
    "r = Button(win,image=b3_image,cursor=\"hand2\",command=rotate2D)\n",
    "r.place(x=320,y=390)\n",
    "\n",
    "#Scaling\n",
    "b4_image = PhotoImage(file=\"b4.png\")\n",
    "s = Button(win,image=b4_image,cursor=\"hand2\",command=scaling)\n",
    "s.place(x=520,y=390)\n",
    "\n",
    "#Shear\n",
    "b5_image = PhotoImage(file=\"b5.png\")\n",
    "sh = Button(win,image=b5_image,cursor=\"hand2\",command=shear)\n",
    "sh.place(x=720,y=390)\n",
    "\n",
    "#Translation\n",
    "b6_image = PhotoImage(file=\"b6.png\")\n",
    "t = Button(win,image=b6_image,cursor=\"hand2\",command=translation)\n",
    "t.place(x=620,y=480)\n",
    "\n",
    "#Reflection\n",
    "b7_image = PhotoImage(file=\"b7.png\")\n",
    "ref = Button(win,image=b7_image,cursor=\"hand2\",command=reflect)\n",
    "ref.place(x=420,y=480)\n",
    "\n",
    "win.mainloop()"
   ]
  },
  {
   "cell_type": "code",
   "execution_count": null,
   "metadata": {},
   "outputs": [],
   "source": []
  },
  {
   "cell_type": "code",
   "execution_count": null,
   "metadata": {},
   "outputs": [],
   "source": []
  }
 ],
 "metadata": {
  "kernelspec": {
   "display_name": "Python 3",
   "language": "python",
   "name": "python3"
  },
  "language_info": {
   "codemirror_mode": {
    "name": "ipython",
    "version": 3
   },
   "file_extension": ".py",
   "mimetype": "text/x-python",
   "name": "python",
   "nbconvert_exporter": "python",
   "pygments_lexer": "ipython3",
   "version": "3.7.3"
  }
 },
 "nbformat": 4,
 "nbformat_minor": 2
}
